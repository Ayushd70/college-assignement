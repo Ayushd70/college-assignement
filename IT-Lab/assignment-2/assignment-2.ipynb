{
  "nbformat": 4,
  "nbformat_minor": 0,
  "metadata": {
    "colab": {
      "name": "IT Lab Assignment-2.ipynb",
      "provenance": [],
      "collapsed_sections": [],
      "include_colab_link": true
    },
    "kernelspec": {
      "name": "python3",
      "display_name": "Python 3"
    }
  },
  "cells": [
    {
      "cell_type": "markdown",
      "metadata": {
        "id": "view-in-github",
        "colab_type": "text"
      },
      "source": [
        "<a href=\"https://colab.research.google.com/gist/Ayushd70/5f3c0720df57a1e83df999e6a9ea5de4/it-lab-assignment-2.ipynb\" target=\"_parent\"><img src=\"https://colab.research.google.com/assets/colab-badge.svg\" alt=\"Open In Colab\"/></a>"
      ]
    },
    {
      "cell_type": "markdown",
      "metadata": {
        "id": "O6a_NvY8vudv",
        "colab_type": "text"
      },
      "source": [
        "**1.) Write a program which takes two integers as input. Print whether the two numbers are equal, less than, or greater than the other.**"
      ]
    },
    {
      "cell_type": "code",
      "metadata": {
        "id": "sA59eWC6vx91",
        "colab_type": "code",
        "colab": {}
      },
      "source": [
        "x = input(\"Enter 1st number:\")\n",
        "y = input(\"Enter 2nd number:\")\n",
        "if x == y:\n",
        "    print(\"Equal\")\n",
        "elif x > y:\n",
        "    print(\"Number 2 < Number 1\")\n",
        "else:\n",
        "    print(\"Number 2 > Number 1\")"
      ],
      "execution_count": null,
      "outputs": []
    },
    {
      "cell_type": "markdown",
      "metadata": {
        "colab_type": "text",
        "id": "EoO0WK2nytq7"
      },
      "source": [
        "**2) Write pay computation to give the employee 1.5 times the hourly rate for hours worked above 40 hours (Input: hours and rate).**"
      ]
    },
    {
      "cell_type": "code",
      "metadata": {
        "id": "olJHUFI83D6X",
        "colab_type": "code",
        "colab": {}
      },
      "source": [
        "rate = int(input(\"Rate:\"))\n",
        "hours = int(input(\"Hours:\"))\n",
        "if hours <= 40:\n",
        "    pay = hours * rate\n",
        "else:\n",
        "    pay = 40 * rate + 1.5 * rate * (hours - 40)\n",
        "print(\"Pay :\", pay)\n"
      ],
      "execution_count": null,
      "outputs": []
    },
    {
      "cell_type": "markdown",
      "metadata": {
        "id": "GoXUyFaI5K4k",
        "colab_type": "text"
      },
      "source": [
        "**3) Write a program to prompt for a score between 0.0 and 1.0. If the score is out of range, print an error message. If the score is between 0.0 and 1.0, print a grade using the following table:**\n",
        "\n",
        "__>= 0.9 A__\n",
        "\n",
        "__>= 0.8 B__\n",
        "\n",
        "__>= 0.7 C__\n",
        "\n",
        "__>= 0.6 D__\n",
        "\n",
        "__< 0.6 F__"
      ]
    },
    {
      "cell_type": "code",
      "metadata": {
        "id": "8pvuARRw5a1-",
        "colab_type": "code",
        "colab": {}
      },
      "source": [
        "x = float(input(\"Score:\"))\n",
        "if x > 1.0 or x < 0.0:\n",
        "    print(\"Error\")\n",
        "elif x >= 0.9:\n",
        "    print(\"A\")\n",
        "elif x >= 0.8 and x < 0.9:\n",
        "    print(\"B\")\n",
        "elif x >= 0.7 and x < 0.8:\n",
        "    print(\"C\")\n",
        "elif x >= 0.6 and x < 0.7:\n",
        "    print(\"D\")\n",
        "else:\n",
        "    print(\"F\")\n",
        "    "
      ],
      "execution_count": null,
      "outputs": []
    },
    {
      "cell_type": "markdown",
      "metadata": {
        "id": "-tcqTcoH5LFN",
        "colab_type": "text"
      },
      "source": [
        "**4) Write a program which takes temperature as input and also input its type (Centigrade or Fahrenheit). Convert it to other format.**"
      ]
    },
    {
      "cell_type": "code",
      "metadata": {
        "id": "C3qQi2Rx6518",
        "colab_type": "code",
        "colab": {}
      },
      "source": [
        "x = float(input(\"Enter temperature : \"))\n",
        "u = input(\"Enter Unit (c/f) : \")\n",
        "if u == 'c':\n",
        "    temp = float((9 * x / 5) + 32)\n",
        "    print(\"Temperature is \", str(temp), \"F\")\n",
        "elif u == 'f':\n",
        "    temp = 5 * (x - 32) / 9\n",
        "    print(\"Temperature is \", str(temp), \"C\")\n",
        "else:\n",
        "    print(\"Wrong unit\")"
      ],
      "execution_count": null,
      "outputs": []
    },
    {
      "cell_type": "markdown",
      "metadata": {
        "id": "fRFK-PNZ5LSP",
        "colab_type": "text"
      },
      "source": [
        "**5) Write a program which takes input of a number and check whether it is positive or negative.**"
      ]
    },
    {
      "cell_type": "code",
      "metadata": {
        "id": "R3s5lgrI78lB",
        "colab_type": "code",
        "colab": {}
      },
      "source": [
        "number = int(input())\n",
        "\n",
        "if number < 0:\n",
        "  print(\"Negative\")\n",
        "else:\n",
        "  print(\"Positive\")"
      ],
      "execution_count": null,
      "outputs": []
    },
    {
      "cell_type": "markdown",
      "metadata": {
        "colab_type": "text",
        "id": "7pdavovdytvQ"
      },
      "source": [
        "**6) Write a program which takes input of a number and check whether it is even or odd.**"
      ]
    },
    {
      "cell_type": "code",
      "metadata": {
        "id": "i-NDs9954_Pt",
        "colab_type": "code",
        "colab": {}
      },
      "source": [
        "number = int(input())\n",
        "\n",
        "if number%2==0:\n",
        "  print(\"Even\")\n",
        "else:\n",
        "  print(\"Odd\")"
      ],
      "execution_count": null,
      "outputs": []
    },
    {
      "cell_type": "markdown",
      "metadata": {
        "id": "wOkY5UV1E_zX",
        "colab_type": "text"
      },
      "source": [
        "**7)Write a program which takes three numbers as input find maximum of three and minimum of the three.**"
      ]
    },
    {
      "cell_type": "code",
      "metadata": {
        "id": "6nFNq35LFFFv",
        "colab_type": "code",
        "colab": {}
      },
      "source": [
        "number1 = int(input())\n",
        "number2 = int(input())\n",
        "number3 = int(input())\n",
        "\n",
        "print(\"Maximum:\",max(number1,number2,number3))\n",
        "print(\"Minimum:\",min(number1,number2,number3))"
      ],
      "execution_count": null,
      "outputs": []
    },
    {
      "cell_type": "markdown",
      "metadata": {
        "id": "Fp3zF_URFFZY",
        "colab_type": "text"
      },
      "source": [
        "**8)Write pay program using try and except so that your program handles non-numeric input gracefully by printing a message and exiting the program. The following shows two executions of the program:**\n",
        "\n",
        "Enter Hours: 20\n",
        "\n",
        "Enter Rate: nine\n",
        "\n",
        "Error, please enter numeric input\n",
        "\n",
        "Enter Hours: forty\n",
        "\n",
        "Error, please enter numeric input"
      ]
    },
    {
      "cell_type": "code",
      "metadata": {
        "id": "4LOe22YYFOwE",
        "colab_type": "code",
        "colab": {}
      },
      "source": [
        "try:\n",
        "  print(\"Enter Hours: \")\n",
        "  hrs = int(input())\n",
        "  print(\"Enter Rate: \")\n",
        "  rate = int(input())\n",
        "  print(\"Pay:\",hrs*rate)\n",
        "except ValueError:\n",
        "  print(\"Error, please enter numeric input\")\n"
      ],
      "execution_count": null,
      "outputs": []
    },
    {
      "cell_type": "markdown",
      "metadata": {
        "id": "veYSv_huFPQP",
        "colab_type": "text"
      },
      "source": [
        "**9)Write a program to check whether a number is Armstrong or not.**"
      ]
    },
    {
      "cell_type": "code",
      "metadata": {
        "id": "Lu_NEmgZFUUs",
        "colab_type": "code",
        "colab": {}
      },
      "source": [
        "def ArmStrong(n):\n",
        "  l = len(str(n))\n",
        "  sum = 0\n",
        "  temp = n\n",
        "  \n",
        "  while(temp > 0):\n",
        "    d = temp % 10\n",
        "    sum += d ** l\n",
        "    temp //= 10\n",
        "\n",
        "  if(n == sum):\n",
        "    return \"Armstrong number\"\n",
        "  else:\n",
        "    return \"Not an Armstrong number\"\n",
        "\n",
        "num = int(input())\n",
        "\n",
        "print(ArmStrong(num))\n",
        "print(ArmStrong(153))\n",
        "print(ArmStrong(67))"
      ],
      "execution_count": null,
      "outputs": []
    }
  ]
}
