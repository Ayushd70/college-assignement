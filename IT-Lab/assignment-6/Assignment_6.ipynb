{
  "nbformat": 4,
  "nbformat_minor": 0,
  "metadata": {
    "colab": {
      "name": "Assignment-6.ipynb",
      "provenance": [],
      "collapsed_sections": []
    },
    "kernelspec": {
      "name": "python3",
      "display_name": "Python 3"
    }
  },
  "cells": [
    {
      "cell_type": "code",
      "metadata": {
        "id": "kYw-4NTB_C1v"
      },
      "source": [
        "lst = []\n",
        "i=0\n",
        "while i<5:\n",
        "  player=input()\n",
        "  lst.append(player)\n",
        "  i+=1\n",
        "\n",
        "print(lst)"
      ],
      "execution_count": null,
      "outputs": []
    },
    {
      "cell_type": "code",
      "metadata": {
        "id": "D5O5ZYcc_9Bh"
      },
      "source": [
        "lst = [1,2,3,4,5,2,6,7,2,10,8,2]\n",
        "\n",
        "print(\"Number of times 2 occurs in the list: \", lst.count(2))"
      ],
      "execution_count": null,
      "outputs": []
    },
    {
      "cell_type": "code",
      "metadata": {
        "id": "06duj1luBoMf"
      },
      "source": [
        "lst = [1,2,3,4,5,2,6,7,2,10,8,2]\n",
        "\n",
        "print(sorted(lst))"
      ],
      "execution_count": null,
      "outputs": []
    },
    {
      "cell_type": "code",
      "metadata": {
        "id": "DfGplufvB9_4"
      },
      "source": [
        "lst = [1,2,3,4,5,2,6,7,2,10,8,2]\n",
        "\n",
        "print(lst.index(10))"
      ],
      "execution_count": null,
      "outputs": []
    },
    {
      "cell_type": "code",
      "metadata": {
        "id": "ujdL6aQ1he7z"
      },
      "source": [
        "r, c = list(map(int, input(\"Enter row & column:\").split()))\n",
        "\n",
        "table = [list(map(int, input().split())) for _ in range(r)]\n",
        "\n",
        "print(\"output:\")\n",
        "for i in table:\n",
        "    print(\" \".join(list(map(str, i))))"
      ],
      "execution_count": null,
      "outputs": []
    },
    {
      "cell_type": "code",
      "metadata": {
        "id": "C6cCvsZEipJA"
      },
      "source": [
        "l1 = list(map(int, input(\"Enter 1st list :\").split()))\n",
        "l2 = list(map(int, input(\"Enter 2nd list :\").split()))\n",
        "\n",
        "if l1 == l2:\n",
        "    print(f\" {l1} and {l2} are equal \")\n",
        "elif sorted(l1) == sorted(l2):\n",
        "    print(f\" {l1} and {l2} have same elements \")\n",
        "else:\n",
        "    print(f\" {l1} and {l2} are not equal \")"
      ],
      "execution_count": null,
      "outputs": []
    }
  ]
}