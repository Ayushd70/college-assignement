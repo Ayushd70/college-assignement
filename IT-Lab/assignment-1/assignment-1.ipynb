{
  "nbformat": 4,
  "nbformat_minor": 0,
  "metadata": {
    "colab": {
      "name": "IT Assignment.ipynb",
      "provenance": [],
      "collapsed_sections": [],
      "include_colab_link": true
    },
    "kernelspec": {
      "name": "python3",
      "display_name": "Python 3"
    }
  },
  "cells": [
    {
      "cell_type": "markdown",
      "metadata": {
        "id": "view-in-github",
        "colab_type": "text"
      },
      "source": [
        "<a href=\"https://colab.research.google.com/gist/Ayushd70/6cf615368db35b85d47a573e558fea42/it-assignment.ipynb\" target=\"_parent\"><img src=\"https://colab.research.google.com/assets/colab-badge.svg\" alt=\"Open In Colab\"/></a>"
      ]
    },
    {
      "cell_type": "markdown",
      "metadata": {
        "id": "O6a_NvY8vudv",
        "colab_type": "text"
      },
      "source": [
        "**1.a) Save your name and print it.**"
      ]
    },
    {
      "cell_type": "code",
      "metadata": {
        "id": "sA59eWC6vx91",
        "colab_type": "code",
        "colab": {}
      },
      "source": [
        "name = \"Ayush Dubey\"\n",
        "print(name)"
      ],
      "execution_count": null,
      "outputs": []
    },
    {
      "cell_type": "markdown",
      "metadata": {
        "id": "AcZAPNuMv2FR",
        "colab_type": "text"
      },
      "source": [
        "**1.b) Take input your name and print it as “Hello! John”, where “John” is the input.**"
      ]
    },
    {
      "cell_type": "code",
      "metadata": {
        "id": "PrrTSbhkv-9k",
        "colab_type": "code",
        "colab": {}
      },
      "source": [
        "name = input()\n",
        "print(\"Hello!\", name)"
      ],
      "execution_count": null,
      "outputs": []
    },
    {
      "cell_type": "markdown",
      "metadata": {
        "id": "k4fSOYw0wKhh",
        "colab_type": "text"
      },
      "source": [
        "**1.c) Add two numbers. Input the two numbers.**"
      ]
    },
    {
      "cell_type": "code",
      "metadata": {
        "id": "fgKdyUuowPa2",
        "colab_type": "code",
        "colab": {}
      },
      "source": [
        "n1 = int(input())\n",
        "n2 = int(input())\n",
        "\n",
        "print(\"Sum =\", n1+n2)"
      ],
      "execution_count": null,
      "outputs": []
    },
    {
      "cell_type": "markdown",
      "metadata": {
        "id": "1X9OOskpwXqE",
        "colab_type": "text"
      },
      "source": [
        "**1.d) Subtract two numbers. Input the two numbers.**"
      ]
    },
    {
      "cell_type": "code",
      "metadata": {
        "id": "ZbI0X8y1wdpQ",
        "colab_type": "code",
        "colab": {}
      },
      "source": [
        "n1 = int(input())\n",
        "n2 = int(input())\n",
        "\n",
        "print(\"Substraction =\", n1-n2)"
      ],
      "execution_count": null,
      "outputs": []
    },
    {
      "cell_type": "markdown",
      "metadata": {
        "colab_type": "text",
        "id": "nttwvmRhwhWF"
      },
      "source": [
        "**1.e) Multiply two numbers. Input the two numbers.**"
      ]
    },
    {
      "cell_type": "code",
      "metadata": {
        "colab_type": "code",
        "id": "gT7fkdBDw5An",
        "colab": {}
      },
      "source": [
        "n1 = int(input())\n",
        "n2 = int(input())\n",
        "\n",
        "print(\"Multiplication =\", n1*n2)"
      ],
      "execution_count": null,
      "outputs": []
    },
    {
      "cell_type": "markdown",
      "metadata": {
        "colab_type": "text",
        "id": "viAD29mQwh_a"
      },
      "source": [
        "**1.f) Divide two numbers. Print remainder. Input the two numbers.**"
      ]
    },
    {
      "cell_type": "code",
      "metadata": {
        "colab_type": "code",
        "id": "06ku4bfkw5Xa",
        "colab": {}
      },
      "source": [
        "n1 = int(input())\n",
        "n2 = int(input())\n",
        "\n",
        "print(\"Remainder =\", n1%n2)"
      ],
      "execution_count": null,
      "outputs": []
    },
    {
      "cell_type": "markdown",
      "metadata": {
        "colab_type": "text",
        "id": "BbD8i8zywirU"
      },
      "source": [
        "**1.g) Divide two numbers truncating the fractional part. Input the two numbers.**"
      ]
    },
    {
      "cell_type": "code",
      "metadata": {
        "colab_type": "code",
        "id": "0FsIRcAww6Bx",
        "colab": {}
      },
      "source": [
        "n1 = int(input())\n",
        "n2 = int(input())\n",
        "\n",
        "print(\"Division = \", n1//n2)"
      ],
      "execution_count": null,
      "outputs": []
    },
    {
      "cell_type": "markdown",
      "metadata": {
        "colab_type": "text",
        "id": "nZddugurys42"
      },
      "source": [
        "**1.h) Find a b . Input the two numbers.**"
      ]
    },
    {
      "cell_type": "code",
      "metadata": {
        "id": "kape4k0uzHkz",
        "colab_type": "code",
        "colab": {}
      },
      "source": [
        "a = int(input())\n",
        "b = int(input())\n",
        "\n",
        "print(\"%d to the power %d is = %d\"%(a,b,a**b))"
      ],
      "execution_count": null,
      "outputs": []
    },
    {
      "cell_type": "markdown",
      "metadata": {
        "colab_type": "text",
        "id": "dRzDe8arys_2"
      },
      "source": [
        "**1.i) Write a string and print 0 th letter and 5 th letter.**"
      ]
    },
    {
      "cell_type": "code",
      "metadata": {
        "id": "PR_Dd155zOrO",
        "colab_type": "code",
        "colab": {}
      },
      "source": [
        "string = \"History\"\n",
        "\n",
        "print(\"0th letter:\",string[0])\n",
        "print(\"5th letter:\",string[5])"
      ],
      "execution_count": null,
      "outputs": []
    },
    {
      "cell_type": "markdown",
      "metadata": {
        "colab_type": "text",
        "id": "alZjad5lytEf"
      },
      "source": [
        "**1.j) Write two words with an escape sequence in between. Now print it.**"
      ]
    },
    {
      "cell_type": "code",
      "metadata": {
        "id": "s6oDh9GKz_IU",
        "colab_type": "code",
        "colab": {}
      },
      "source": [
        "words = \"Hello\\nWorld\"\n",
        "\n",
        "print(words)"
      ],
      "execution_count": null,
      "outputs": []
    },
    {
      "cell_type": "markdown",
      "metadata": {
        "colab_type": "text",
        "id": "MHi7fOoTytUC"
      },
      "source": [
        "**1.k) Print string as a raw string.**"
      ]
    },
    {
      "cell_type": "code",
      "metadata": {
        "id": "N7zlVWBL0Tbc",
        "colab_type": "code",
        "colab": {}
      },
      "source": [
        "string = r\"Hello \\n World!\"\n",
        "\n",
        "print(string)"
      ],
      "execution_count": null,
      "outputs": []
    },
    {
      "cell_type": "markdown",
      "metadata": {
        "colab_type": "text",
        "id": "pEej6jN0ytYl"
      },
      "source": [
        "**1.l) Perform integer conversion.**"
      ]
    },
    {
      "cell_type": "code",
      "metadata": {
        "id": "Uq3g6upB00E7",
        "colab_type": "code",
        "colab": {}
      },
      "source": [
        "# Integer to string\n",
        "int1 = \"5\"\n",
        "int2 = \"7\"\n",
        "\n",
        "string = str(int1) + str(int2)\n",
        "\n",
        "print(string)"
      ],
      "execution_count": null,
      "outputs": []
    },
    {
      "cell_type": "markdown",
      "metadata": {
        "colab_type": "text",
        "id": "5lFRaC8Fytda"
      },
      "source": [
        "**1.m) Perform string conversion.**"
      ]
    },
    {
      "cell_type": "code",
      "metadata": {
        "id": "rp95zW5Z1F33",
        "colab_type": "code",
        "colab": {}
      },
      "source": [
        "# String to integer\n",
        "str1 = \"52\"\n",
        "str2 = \"79\"\n",
        "\n",
        "integer = int(str1) + int(str2)\n",
        "\n",
        "print(integer)"
      ],
      "execution_count": null,
      "outputs": []
    },
    {
      "cell_type": "markdown",
      "metadata": {
        "colab_type": "text",
        "id": "YIAZfskbyti3"
      },
      "source": [
        "**1.n) Concatenate two strings without using ‘+’.**"
      ]
    },
    {
      "cell_type": "code",
      "metadata": {
        "id": "W4f-Ug232rn8",
        "colab_type": "code",
        "colab": {}
      },
      "source": [
        "str1 = \"Hello\"\n",
        "str2 = \"World!\"\n",
        "\n",
        "print(str1,str2)"
      ],
      "execution_count": null,
      "outputs": []
    },
    {
      "cell_type": "markdown",
      "metadata": {
        "colab_type": "text",
        "id": "fq-0AWG1ytmq"
      },
      "source": [
        "**1.o) Concatenate two strings with using ‘+’.**"
      ]
    },
    {
      "cell_type": "code",
      "metadata": {
        "id": "kAnP2W2B2Zf5",
        "colab_type": "code",
        "colab": {}
      },
      "source": [
        "str1 = \"Hello\"\n",
        "str2 = \"\\tWorld!\"\n",
        "\n",
        "print(str1+str2)"
      ],
      "execution_count": null,
      "outputs": []
    },
    {
      "cell_type": "markdown",
      "metadata": {
        "id": "pVhDX41X27fG",
        "colab_type": "text"
      },
      "source": [
        "**1.p) Take input of a floating-point number and an integer. Multiply them. Add three with the result\n",
        "without saving it as a separate variable. Also, round it up to two decimal places without saving it as a\n",
        "separate variable.**"
      ]
    },
    {
      "cell_type": "code",
      "metadata": {
        "id": "Ib1NZgqb3Fd7",
        "colab_type": "code",
        "colab": {}
      },
      "source": [
        "flt = float(input())\n",
        "integer = int(input())\n",
        "\n",
        "print(\"%.2f\"%((flt*integer)+3))"
      ],
      "execution_count": null,
      "outputs": []
    },
    {
      "cell_type": "markdown",
      "metadata": {
        "colab_type": "text",
        "id": "EoO0WK2nytq7"
      },
      "source": [
        "**2) Write a program which takes temperature as input as Centigrade. Convert it to Fahrenheit.**"
      ]
    },
    {
      "cell_type": "code",
      "metadata": {
        "id": "olJHUFI83D6X",
        "colab_type": "code",
        "colab": {}
      },
      "source": [
        "print(\"Enter temprature in Centigrade: \")\n",
        "temp_input = float(input())\n",
        "print(\"%.2f degree Centigrade is equal to\" %temp_input, ((temp_input*9/5)+32), \"degree Fahrenheit.\")"
      ],
      "execution_count": null,
      "outputs": []
    },
    {
      "cell_type": "markdown",
      "metadata": {
        "id": "GoXUyFaI5K4k",
        "colab_type": "text"
      },
      "source": [
        "**3) Write a program to prompt the user for hours and wages as rate per hour to compute gross pay.**"
      ]
    },
    {
      "cell_type": "code",
      "metadata": {
        "id": "8pvuARRw5a1-",
        "colab_type": "code",
        "colab": {}
      },
      "source": [
        "print(\"Enter hrs:\")\n",
        "hrs = float(input())\n",
        "print(\"Enter wages\")\n",
        "wages = float(input())\n",
        "\n",
        "print(\"Gross pay=%.2fRs\"%(hrs*wages))"
      ],
      "execution_count": null,
      "outputs": []
    },
    {
      "cell_type": "markdown",
      "metadata": {
        "id": "-tcqTcoH5LFN",
        "colab_type": "text"
      },
      "source": [
        "**4) Write a program to prompt the user for principal amount, annual interest, and years. Print total.**"
      ]
    },
    {
      "cell_type": "code",
      "metadata": {
        "id": "C3qQi2Rx6518",
        "colab_type": "code",
        "colab": {}
      },
      "source": [
        "print(\"Enter principal amount:\")\n",
        "pa = float(input())\n",
        "print(\"Enter annual interest\")\n",
        "ai = float(input())\n",
        "print(\"Enter number of years\")\n",
        "years = int(input())\n",
        "\n",
        "print(\"Total:\", ((pa-ai)*years))"
      ],
      "execution_count": null,
      "outputs": []
    },
    {
      "cell_type": "markdown",
      "metadata": {
        "id": "fRFK-PNZ5LSP",
        "colab_type": "text"
      },
      "source": [
        "**5) Write a program in Python to find the root of a quadratic equation taken as input.**"
      ]
    },
    {
      "cell_type": "code",
      "metadata": {
        "id": "R3s5lgrI78lB",
        "colab_type": "code",
        "colab": {}
      },
      "source": [
        "print(\"Equation: ax^2 + bx + c \")\n",
        "a=int(input(\"Enter a: \"))\n",
        "b=int(input(\"Enter b: \"))\n",
        "c=int(input(\"Enter c: \"))\n",
        "d=b**2-4*a*c\n",
        "d1=d**0.5\n",
        "if(d<0):\n",
        "    print(\"The roots are imaginary. \")\n",
        "else:\n",
        "    r1=(-b+d1)/2*a\n",
        "    r2=(-b-d1)/2*a\n",
        "    print(\"The first root: \",round(r1,2))\n",
        "    print(\"The second root: \",round(r2,2))"
      ],
      "execution_count": null,
      "outputs": []
    },
    {
      "cell_type": "markdown",
      "metadata": {
        "colab_type": "text",
        "id": "7pdavovdytvQ"
      },
      "source": [
        "**6) Write a program in Python to add, subtract, multiply, and divide two complex numbers.**"
      ]
    },
    {
      "cell_type": "code",
      "metadata": {
        "id": "i-NDs9954_Pt",
        "colab_type": "code",
        "colab": {}
      },
      "source": [
        "a = complex(5,6)\n",
        "b = complex(2,1)\n",
        "\n",
        "print(\"Addition: \", a+b)\n",
        "print(\"Substraction: \", a-b)\n",
        "print(\"Multiplication: \", a*b)\n",
        "print(\"Division: \", a/b)"
      ],
      "execution_count": null,
      "outputs": []
    }
  ]
}
